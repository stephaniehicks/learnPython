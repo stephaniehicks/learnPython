{
 "metadata": {
  "name": "",
  "signature": "sha256:c55f53772cb9e4ed959eed07f14b50f85e54bb1cc046d8984ab47047e48eee7d"
 },
 "nbformat": 3,
 "nbformat_minor": 0,
 "worksheets": [
  {
   "cells": [
    {
     "cell_type": "markdown",
     "metadata": {},
     "source": [
      "# Pandas\n",
      "\n",
      "Pandas is a module in Python for working with data structures.  The two main objects from [Pandas](http://pandas.pydata.org) are the `Series` and `DataFrame`. These object scan easily subset, aggregate and reshape the data using the array-computing features of NumPy.  \n",
      "\n",
      "## Import Pandas"
     ]
    },
    {
     "cell_type": "code",
     "collapsed": false,
     "input": [
      "from pandas import Series, DataFrame\n",
      "import pandas as pd\n",
      "import numpy as np"
     ],
     "language": "python",
     "metadata": {},
     "outputs": [],
     "prompt_number": 1
    },
    {
     "cell_type": "markdown",
     "metadata": {},
     "source": [
      "## Series\n",
      "\n",
      "The `Series` is a one-dimensional array-like object with associated data labels called the *index*.  The `values` and `index` of the `Series` can be accessed using attributes of the object.  Similar to strings and tuples, the `index` of a `Series` is **immutable** (same is true for a `DataFrame` later on). "
     ]
    },
    {
     "cell_type": "code",
     "collapsed": false,
     "input": [
      "x = Series([5, 10, 15, 20])\n",
      "x.values\n",
      "x.index"
     ],
     "language": "python",
     "metadata": {},
     "outputs": [
      {
       "metadata": {},
       "output_type": "pyout",
       "prompt_number": 2,
       "text": [
        "Int64Index([0, 1, 2, 3], dtype='int64')"
       ]
      }
     ],
     "prompt_number": 2
    },
    {
     "cell_type": "markdown",
     "metadata": {},
     "source": [
      "The default index for a `Series` is the set of integers starting at 0 through the length of the data (e.g. $N - 1$). To define a new index, use `index` in the `Series` definition. These indexes can be used to select a subset of the `Series`. Other subsetting such as using boolean arrays also work. "
     ]
    },
    {
     "cell_type": "code",
     "collapsed": false,
     "input": [
      "x = pd.Series([5, 10, 15, 20], index = ['Holly', 'Bart', 'Josh', 'Karen'])\n",
      "x[['Josh', 'Holly']]\n",
      "x[x > 10 ]"
     ],
     "language": "python",
     "metadata": {},
     "outputs": [
      {
       "metadata": {},
       "output_type": "pyout",
       "prompt_number": 3,
       "text": [
        "Josh     15\n",
        "Karen    20\n",
        "dtype: int64"
       ]
      }
     ],
     "prompt_number": 3
    },
    {
     "cell_type": "markdown",
     "metadata": {},
     "source": [
      "Both the `Series` itself and its index have a `name` attribute. "
     ]
    },
    {
     "cell_type": "code",
     "collapsed": false,
     "input": [
      "x.name = 'age'\n",
      "x.index.name = 'firstName'"
     ],
     "language": "python",
     "metadata": {},
     "outputs": [],
     "prompt_number": 4
    },
    {
     "cell_type": "markdown",
     "metadata": {},
     "source": [
      "The index of a `Series` can also re-ordered"
     ]
    },
    {
     "cell_type": "code",
     "collapsed": false,
     "input": [
      "x.index = ['Josh', 'Holly', 'Bart', 'Karen']"
     ],
     "language": "python",
     "metadata": {},
     "outputs": [],
     "prompt_number": 5
    },
    {
     "cell_type": "markdown",
     "metadata": {},
     "source": [
      "#### Series and dictionaries\n",
      "This object is very similar to an ordered `dict` because of the mapping between the index and values.  In fact you can use the `in` operator to check if an index exists in the object You can also directly pass a `dict` to a `Series`. "
     ]
    },
    {
     "cell_type": "code",
     "collapsed": false,
     "input": [
      "'Bart' in x\n",
      "y = Series[{'Holly': 5, 'Bart': 10, 'Alan': 27, 'Beau': 5}]"
     ],
     "language": "python",
     "metadata": {},
     "outputs": [
      {
       "ename": "TypeError",
       "evalue": "'type' object has no attribute '__getitem__'",
       "output_type": "pyerr",
       "traceback": [
        "\u001b[0;31m---------------------------------------------------------------------------\u001b[0m\n\u001b[0;31mTypeError\u001b[0m                                 Traceback (most recent call last)",
        "\u001b[0;32m<ipython-input-6-13d43c88cff0>\u001b[0m in \u001b[0;36m<module>\u001b[0;34m()\u001b[0m\n\u001b[1;32m      1\u001b[0m \u001b[0;34m'Bart'\u001b[0m \u001b[0;32min\u001b[0m \u001b[0mx\u001b[0m\u001b[0;34m\u001b[0m\u001b[0m\n\u001b[0;32m----> 2\u001b[0;31m \u001b[0my\u001b[0m \u001b[0;34m=\u001b[0m \u001b[0mSeries\u001b[0m\u001b[0;34m[\u001b[0m\u001b[0;34m{\u001b[0m\u001b[0;34m'Holly'\u001b[0m\u001b[0;34m:\u001b[0m \u001b[0;36m5\u001b[0m\u001b[0;34m,\u001b[0m \u001b[0;34m'Bart'\u001b[0m\u001b[0;34m:\u001b[0m \u001b[0;36m10\u001b[0m\u001b[0;34m,\u001b[0m \u001b[0;34m'Alan'\u001b[0m\u001b[0;34m:\u001b[0m \u001b[0;36m27\u001b[0m\u001b[0;34m,\u001b[0m \u001b[0;34m'Beau'\u001b[0m\u001b[0;34m:\u001b[0m \u001b[0;36m5\u001b[0m\u001b[0;34m}\u001b[0m\u001b[0;34m]\u001b[0m\u001b[0;34m\u001b[0m\u001b[0m\n\u001b[0m",
        "\u001b[0;31mTypeError\u001b[0m: 'type' object has no attribute '__getitem__'"
       ]
      }
     ],
     "prompt_number": 6
    },
    {
     "cell_type": "markdown",
     "metadata": {},
     "source": [
      "**Note**: The resulting `Series` will have the `dict`'s keys in a sorted order. \n",
      "\n",
      "#### Series and missing data\n",
      "When creating a `Series`, you can have missing data (i.e. `NaN` values).  to testing for missing data, use `pd.isnull` and `pd.notnull`. "
     ]
    },
    {
     "cell_type": "code",
     "collapsed": false,
     "input": [
      "pd.isnull(x)\n",
      "pd.notnull(x)"
     ],
     "language": "python",
     "metadata": {},
     "outputs": []
    },
    {
     "cell_type": "markdown",
     "metadata": {},
     "source": [
      "#### Arithmetic methods for a Series\n",
      "\n",
      "One important feature of working with pandas is the flexibility of working with different objects with different indexes.  When you add the objects (with possibly different sizes and shapes) together, the resulting objects will the union of all the index pairs.  For example, when combining `x` and `y`, this returns a new `Series` with the union of all the indexes and values in `x` and `y`. "
     ]
    },
    {
     "cell_type": "code",
     "collapsed": false,
     "input": [
      "print x + y"
     ],
     "language": "python",
     "metadata": {},
     "outputs": []
    },
    {
     "cell_type": "markdown",
     "metadata": {},
     "source": [
      "## DataFrame\n",
      "\n",
      "The `DataFrame` is an extension of the `Series` because instead of just being one-dimensional, it organizes data into a column structure with row and column labels. This allows the user to have a collection of columns of data with different `type`s.  The `DataFrame` has a both row and column index.  The column names can be found using the attribute `columns`. The `values` and `index` can be...."
     ]
    },
    {
     "cell_type": "code",
     "collapsed": false,
     "input": [
      "data = {'height' : 5.6, 7.0, 4.9, 6.7, 5.2, 5.5, 6.1, 5.4], \n",
      "       'age' : [15, 21, 15, 20, 22, 41, 18, 38]}\n",
      "z = DataFrame(data)\n",
      "z.columns # column names\n",
      "z.values # values\n",
      "z.index\t # index\n",
      "z.ix # indexing field"
     ],
     "language": "python",
     "metadata": {},
     "outputs": []
    },
    {
     "cell_type": "markdown",
     "metadata": {},
     "source": [
      "To extract a specific column, you can use `[ ]` (brackets) or attribute notation.  If you specify a sequence of columns, the `DataFrame` will return the columns you ask for.  If you pass a column that isn't in your data set, then it will return `NaN` values. "
     ]
    },
    {
     "cell_type": "code",
     "collapsed": false,
     "input": [
      "z.height\n",
      "z['height']\n",
      "z = DataFrame(data, columns = ['height', 'age', 'weight'])\n"
     ],
     "language": "python",
     "metadata": {},
     "outputs": []
    },
    {
     "cell_type": "markdown",
     "metadata": {},
     "source": [
      "Altering the value of a column can be done too. "
     ]
    },
    {
     "cell_type": "code",
     "collapsed": false,
     "input": [
      "z['weight'] = 180\t\t# assigns 180 to all the values in the `weight` column\n",
      "z['footSize'] = 7\t\t\t# assigning values to a column that doesn't exist creates a new column\n",
      "z.index = ['Holly', 'Bart', 'Josh', 'Karen', 'Tom', 'Doug', 'Sophie'']\t\t# assigns the index values"
     ],
     "language": "python",
     "metadata": {},
     "outputs": []
    },
    {
     "cell_type": "markdown",
     "metadata": {},
     "source": [
      "Both the `DataFrame` itself, its `index` and its `columns` have a `name` attribute. "
     ]
    },
    {
     "cell_type": "code",
     "collapsed": false,
     "input": [
      "z.name = 'Team1'\n",
      "z.index.name = 'firstName'\n",
      "z.columns.name"
     ],
     "language": "python",
     "metadata": {},
     "outputs": []
    },
    {
     "cell_type": "markdown",
     "metadata": {},
     "source": [
      "#### Ways to create a DataFrame [Mostly taken from [Data analysis for Python](http://www.amazon.com/Python-Data-Analysis-Wrangling-IPython/dp/1449319793)]\n",
      "\n",
      "Approach | Details\n",
      "--- | --- \n",
      "dict of arrays, lists, or tuples | Each group of elements becomes a column (all groups must be the same length)\n",
      "dict of dicts |  If you have a nested `dict` of `dict`s then when you pass it to a `DataFrame`, the outer `dict` keys will be the columns and the inner keys will be the rows. \n",
      "dict of Series | Each `value` becomes a column\n",
      "2D ndarray | Use the `numpy` `ndarray` with optional row and column labels\n",
      "Another DataFrame | Combine `DataFrame`s using their `index`es\n",
      "list of dicts or Series | Each item in the `list` becomes a *row* in the `DataFrame`. Union of the `dict` `keys` (or `Series` `index`es) is the column names \n",
      "list of lists or tuples | Similar idea to the `ndarray`\n",
      "\n",
      "\n",
      "## Index methods for a DataFrame\n",
      "\n",
      "There are a set of methods that specifically operate on the `index` of a `DataFrame` (i.e. `z.index`). **Note**: These methods do not alter the index, but rather creates a new index that has been modified using one of the following methods. \n",
      "\n",
      "Method | Description\n",
      "--- | --- \n",
      "`unique` | Return the unique values in the index\n",
      "`is_unique` | Returns a `Bool` if index has no duplicates\n",
      "`insert(n, elem)` | Insert `elem` at position `n`\n",
      "`delete(n)` | Delete the `value` at position `n`\n",
      "`drop(elem)` | Drop the `elem` value \n",
      "`union` | Return the union of indexes\n",
      "`intersection` | Return the intersection of indexes\n",
      "`diff` |\n",
      "`append` | Append a new index object\n",
      "\n",
      "\n",
      "## Methods for Series and DataFrame\n",
      "\n",
      "These are methods that apply to both a `Series` and a `DataFrame`.  Typically when change the index, this will only apply to the row indexes of a `DataFrame`, but there is usually an option to change the column index as well.  \n",
      "\n",
      "Method | Example | Description\n",
      "--- | ---\n",
      "`T` | x.T, z.T | Transposes object\n",
      "`reindex` | x.reindex([new index order], columns) | Create new object conformed to a new index. Check out `fill` or `bill` for interpolation options. Use arg `columns` to reindex columns.  \n",
      "`ix` | z.ix(a, b) | Subset the 'a' rows and the 'b' columns. Also another form of reindexing. \n",
      "`drop` | z.drop('Jack') | Drop one ore more rows or columns. Default is the row-index, but use `axis = 1` to drop from columns. "
     ]
    },
    {
     "cell_type": "code",
     "collapsed": false,
     "input": [
      "z.reindex(index = , method = 'ffill', columns = ['age'])\n",
      "z.ix[['Bart', Holly'], :)\n",
      "z.drop('age', axis = 1)"
     ],
     "language": "python",
     "metadata": {},
     "outputs": []
    },
    {
     "cell_type": "markdown",
     "metadata": {},
     "source": [
      "**Note**: You can index and slice similar to working with an `ndarray`, except you can use the indexes rather than just integers.  The only difference is *slicing* is inclusive (not exclusive which is normal Python). You can also use `Bool` to subset the `Series` or `DataFrame`."
     ]
    },
    {
     "cell_type": "code",
     "collapsed": false,
     "input": [
      "z['Josh': 'Doug']\n",
      "z[:3]\t\t\t# rows returned: Holly, Bart and Josh\n",
      "z[z['height'] > 5.5] # rows returned: all heights > 5.5"
     ],
     "language": "python",
     "metadata": {},
     "outputs": []
    },
    {
     "cell_type": "markdown",
     "metadata": {},
     "source": [
      "#### Arithmetic methods for two or more DataFrames \n",
      "\n",
      "Similar to adding the values in two or more `Series` objects, you can add `DataFrame` objects with different indices and columns. If indices don't overlap, then `NaN` are returned for those values."
     ]
    },
    {
     "cell_type": "code",
     "collapsed": false,
     "input": [
      "a = DataFrame(np.arange(9.).reshape((3, 3)), columns=list('bcd'), index=['Holly', 'Bart', 'Jack'])\n",
      "b = DataFrame(np.arange(12.).reshape((4, 3)), columns=list('bde'), index=['Bart', 'Karen', 'Jack', 'Darren'])\n",
      "print a + b"
     ],
     "language": "python",
     "metadata": {},
     "outputs": []
    },
    {
     "cell_type": "markdown",
     "metadata": {},
     "source": [
      "If you want to fill in the value with something else beside `NaN`, use the method `add` with the `fill_value` argument. "
     ]
    },
    {
     "cell_type": "code",
     "collapsed": false,
     "input": [
      "a.add(b, fill_value=0)"
     ],
     "language": "python",
     "metadata": {},
     "outputs": []
    },
    {
     "cell_type": "markdown",
     "metadata": {},
     "source": [
      "Method | Description\n",
      "--- | --- \n",
      "`a.add(b)` | Add two DataFrames\n",
      "`a.sub(b)` | Subtract two DataFrames\n",
      "`a.mul(b)` | Multiple two DataFrames\n",
      "`a.div(b)` | Divide two DataFrames \n",
      "\n",
      "#### Arithmetic methods for Series and DataFrames\n",
      "\n",
      "Similar to *broadcasting* on multiple `ndarray`s, arithmetic methods between a Series and a DataFrame is also common. The default is the index of the Series will be matched to the columns of the DataFrame. If an index is not found in either the Series of the columns of the DataFrame, then the objects will be *re-indexed* to form the union.  To match on the rows of the DataFrame, use the method `sub()`.\n"
     ]
    },
    {
     "cell_type": "code",
     "collapsed": false,
     "input": [
      "b = DataFrame(np.arange(12.).reshape((4, 3)), columns=list('bde'), index=['Bart', 'Karen', 'Jack', 'Darren'])\n",
      "b.ix[0]\n",
      "b - b.ix[0]\n",
      "b.sub(series, axis = 0)"
     ],
     "language": "python",
     "metadata": {},
     "outputs": []
    },
    {
     "cell_type": "markdown",
     "metadata": {},
     "source": [
      "## Applying NumPy functions to pandas objects\n",
      "\n",
      "The functions in NumPy can be applied to a Series or DataFrame from pandas.  For example, finding the dimension of the object using `shape`. Another example is the element-wise array methods (`ufuncs`) also work on pandas objects. \n",
      "\n"
     ]
    },
    {
     "cell_type": "code",
     "collapsed": false,
     "input": [
      "np.abs(b)\n",
      "np.square(b)"
     ],
     "language": "python",
     "metadata": {},
     "outputs": []
    },
    {
     "cell_type": "markdown",
     "metadata": {},
     "source": [
      "#### lambda functions and `applymap`\n",
      "\n",
      "In addition, we can apply `lambda` functions and applying user-defined functions (with multiple output)"
     ]
    },
    {
     "cell_type": "code",
     "collapsed": false,
     "input": [
      "fun = lambda x: x.max() - x.min()\n",
      "b.apply(fun, axis = 1)\n",
      "\n",
      "def f(x): \n",
      "    return Series([x.min(), x.max()], index=['min', 'max'])\n",
      "    b.apply(f)\n",
      "\n"
     ],
     "language": "python",
     "metadata": {},
     "outputs": []
    },
    {
     "cell_type": "markdown",
     "metadata": {},
     "source": [
      "Use `applymap` to apply element-wise python functions. \n",
      "\n",
      "## Import data from a tab-delimited file to a DataFrame "
     ]
    },
    {
     "cell_type": "code",
     "collapsed": false,
     "input": [
      "data = pd.read_csv('myfile.txt', delimiter='\\t', names=headernames).dropna()\n",
      "print \"Number of rows: %i\" % data.shape[0]\n",
      "data.head()  # print the first 5 rows"
     ],
     "language": "python",
     "metadata": {},
     "outputs": []
    }
   ],
   "metadata": {}
  }
 ]
}