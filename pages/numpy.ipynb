{
 "metadata": {
  "name": "",
  "signature": "sha256:f167a14fec57a967b4110192534759143e089c02466541c115f03d8e902547bd"
 },
 "nbformat": 3,
 "nbformat_minor": 0,
 "worksheets": [
  {
   "cells": [
    {
     "cell_type": "markdown",
     "metadata": {},
     "source": [
      "# NumPy\n",
      "\n",
      "NumPy and SciPy are modules in Python for scientific computing.  [NumPy](http://www.numpy.org) lets you do fast, vectorized operations on arrays.  Why use this module?  \n",
      "\n",
      "* It gives you the performance of using low-level code (e.g. C or Fortran) with the benefit of writing the code in an interpreted scripting language (all while keeping the native Python code). \n",
      "* It gives you a fast, memory-efficient multidimensional array called `ndarray` which allows you perform vectorized operations on (and supports mathematical functions such as linear algebra and random number generation)\n",
      "\n",
      "# Import NumPy"
     ]
    },
    {
     "cell_type": "code",
     "collapsed": false,
     "input": [
      "import numpy as np"
     ],
     "language": "python",
     "metadata": {},
     "outputs": [],
     "prompt_number": 1
    },
    {
     "cell_type": "markdown",
     "metadata": {},
     "source": [
      "# Creating NumPy arrays\n",
      "\n",
      "To create a fast, multidimensional `ndarray` object, use the `np.array()` method on a python `list` or `tuple` or reading data from files. "
     ]
    },
    {
     "cell_type": "code",
     "collapsed": false,
     "input": [
      "x = np.array([1,2,3,4])\n",
      "y = np.array([[1,2], [3,4]])\n",
      "print x"
     ],
     "language": "python",
     "metadata": {},
     "outputs": [
      {
       "output_type": "stream",
       "stream": "stdout",
       "text": [
        "[1 2 3 4]\n"
       ]
      }
     ],
     "prompt_number": 2
    },
    {
     "cell_type": "code",
     "collapsed": false,
     "input": [
      "print y"
     ],
     "language": "python",
     "metadata": {},
     "outputs": [
      {
       "output_type": "stream",
       "stream": "stdout",
       "text": [
        "[[1 2]\n",
        " [3 4]]\n"
       ]
      }
     ],
     "prompt_number": 3
    },
    {
     "cell_type": "code",
     "collapsed": false,
     "input": [
      "type(x)"
     ],
     "language": "python",
     "metadata": {},
     "outputs": [
      {
       "metadata": {},
       "output_type": "pyout",
       "prompt_number": 4,
       "text": [
        "numpy.ndarray"
       ]
      }
     ],
     "prompt_number": 4
    },
    {
     "cell_type": "markdown",
     "metadata": {},
     "source": [
      "#### Properties of NumPy arrays\n",
      "There are a set of properties about the `ndarray` object such the dimensions, the size, etc.  \n",
      "\n",
      "Property | Description\n",
      "--- | ----\n",
      "`y.shape` (or `shape(y)` | Shape or dimension of the array\n",
      "`y.size` (or `size(y)`) | Number of elements in the array \n",
      "`y.dtype` | Data type of array\n",
      "`y.astype(float)` | Forces the data type to be a `float` (or `bool`, etc)\n",
      "`y.nbytes` | Number of bytes\n",
      "`y.itemsize` | Number of bytes per element\n",
      "`y.ndim` | number of dimensions "
     ]
    },
    {
     "cell_type": "code",
     "collapsed": false,
     "input": [
      "print x.shape\n",
      "print y.shape"
     ],
     "language": "python",
     "metadata": {},
     "outputs": [
      {
       "output_type": "stream",
       "stream": "stdout",
       "text": [
        "(4,)\n",
        "(2, 2)\n"
       ]
      }
     ],
     "prompt_number": 5
    },
    {
     "cell_type": "markdown",
     "metadata": {},
     "source": [
      "#### Other various ways to generate NumPy arrays\n",
      "\n",
      "Function | Description\n",
      "--- | ---\n",
      "`np.arange(start,stop,step)` | Create a range between the start and stop arguments\n",
      "`np.linspace(start,stop,length)` | Create a range between start and stop (both ends included)\n",
      "`np.logspace(start, stop, length, base)` | Create a range in the log space with a define base)\n",
      "`np.mgrid[0:n, 0:m]` | Create a meshgrid \n",
      "`np.diag([1,2,3], k=offset)` | Generate a diagonal matrix with the input on the diagonal with an offset\n",
      "`np.zeros((3,3))` | Generate a zeros matrix with given length or shape\n",
      "`np.ones((3,3,))` | Generate a ones matrix with given length or shape\n",
      "`np.empty((m,n))` | Generate an array without initializing any values (pass a tuple for the shape)\n",
      "`np.eye(n)` | Generate an n x n identity matrix\n",
      "\n",
      "\n",
      "In addition, the `numpy.random` module can be used to create arrays using a random number generation "
     ]
    },
    {
     "cell_type": "code",
     "collapsed": false,
     "input": [
      "np.arange(0, 21, 2)"
     ],
     "language": "python",
     "metadata": {},
     "outputs": [
      {
       "metadata": {},
       "output_type": "pyout",
       "prompt_number": 6,
       "text": [
        "array([ 0,  2,  4,  6,  8, 10, 12, 14, 16, 18, 20])"
       ]
      }
     ],
     "prompt_number": 6
    },
    {
     "cell_type": "code",
     "collapsed": false,
     "input": [
      "from numpy import random"
     ],
     "language": "python",
     "metadata": {},
     "outputs": [],
     "prompt_number": 7
    },
    {
     "cell_type": "markdown",
     "metadata": {},
     "source": [
      "Function | Description\n",
      "--- | ---\n",
      "`np.random.randint(a, b, N)` | Generate N random integers between a and b\n",
      "`np.random.rand(n, m)` | Generate uniform random numbers in [0,1] of dim n x m\n",
      "`np.random.randn(n, m)` | Generate standard normal random numbers of dim n x m\n",
      "`np.random.binomial(n, p, size = N)` | Generate N binomial random variables with parameters n, p\n",
      "`np.random.normal(size=N)` | Generate N standard normal random variables\n",
      "`np.random.shuffle()` | Randomly permute a sequence in place\n",
      "`np.random.beta()` | Generate N standard normal random variables\n",
      "`np.random.chisquare()` | Generate N chisquare random variables\n",
      "`np.random.gamma()` | Generate N gamma random variables\n",
      "`np.random.uniform()` | Generate N uniform random variables"
     ]
    },
    {
     "cell_type": "code",
     "collapsed": false,
     "input": [
      "np.random.randint(1, 100, 50)"
     ],
     "language": "python",
     "metadata": {},
     "outputs": [
      {
       "metadata": {},
       "output_type": "pyout",
       "prompt_number": 8,
       "text": [
        "array([42, 72, 46, 95, 87, 36, 36, 43,  9, 75, 45, 84, 51, 18, 55, 54, 36,\n",
        "        7, 24, 97, 38, 59, 10, 96, 21, 70, 26, 60, 21, 26, 48, 90, 89, 74,\n",
        "        2, 35, 63, 62, 52, 54, 52, 59, 62, 36,  3, 56, 38, 69, 61, 63])"
       ]
      }
     ],
     "prompt_number": 8
    },
    {
     "cell_type": "markdown",
     "metadata": {},
     "source": [
      "#### Reshaping, resizing and stacking NumPy arrays\n",
      "\n",
      "Function | Description \n",
      "--- | ---\n",
      "`z.reshape((n,m))` | Reshape z to have dim or shape `n`, `m`\n",
      "`z.flatten()` | Flatten a higher dimensional array into a vector\n",
      "`z[:, newaxis]` | Added a new dimension to the z array using `newaxis`\n",
      "`z.repeat(n)` | Repeat each element in z `n` times. \n",
      "`z.repeat(n)` | Repeat each element in z `n` times. \n",
      "`z.sort()` | Sorts the elements in place\n",
      "`np.tile(z, n)` | Repeat the entire array z `n` times. \n",
      "`np.concatenate((a,b), axis = 0)` | Concatenate two arrays (a, b) along the columns \n",
      "`np.concatenate((a,b), axis = 1)` | Concatenate two arrays (a, b) along the rows \n",
      "`np.hstack((a,b))` | horizontally stack two arrays\n",
      "`np.vstack((a,b))` | vertically stack two arrays\n",
      "\n",
      "\n",
      "\n",
      "To reshape an array, use `reshape()`:"
     ]
    },
    {
     "cell_type": "code",
     "collapsed": false,
     "input": [
      "z = np.random.rand(4,4)\n",
      "print z "
     ],
     "language": "python",
     "metadata": {},
     "outputs": [
      {
       "output_type": "stream",
       "stream": "stdout",
       "text": [
        "[[ 0.34845297  0.90214733  0.39487598  0.77918234]\n",
        " [ 0.74133591  0.72626994  0.0952352   0.04887837]\n",
        " [ 0.85917287  0.46124504  0.7036889   0.11014396]\n",
        " [ 0.95277695  0.84976498  0.0826167   0.01115781]]\n"
       ]
      }
     ],
     "prompt_number": 9
    },
    {
     "cell_type": "code",
     "collapsed": false,
     "input": [
      "z.shape"
     ],
     "language": "python",
     "metadata": {},
     "outputs": [
      {
       "metadata": {},
       "output_type": "pyout",
       "prompt_number": 10,
       "text": [
        "(4, 4)"
       ]
      }
     ],
     "prompt_number": 10
    },
    {
     "cell_type": "code",
     "collapsed": false,
     "input": [
      "z.reshape((8,2)) # dim is now 8 x 2"
     ],
     "language": "python",
     "metadata": {},
     "outputs": [
      {
       "metadata": {},
       "output_type": "pyout",
       "prompt_number": 11,
       "text": [
        "array([[ 0.34845297,  0.90214733],\n",
        "       [ 0.39487598,  0.77918234],\n",
        "       [ 0.74133591,  0.72626994],\n",
        "       [ 0.0952352 ,  0.04887837],\n",
        "       [ 0.85917287,  0.46124504],\n",
        "       [ 0.7036889 ,  0.11014396],\n",
        "       [ 0.95277695,  0.84976498],\n",
        "       [ 0.0826167 ,  0.01115781]])"
       ]
      }
     ],
     "prompt_number": 11
    },
    {
     "cell_type": "markdown",
     "metadata": {},
     "source": [
      "To flatten an array (convert a higher dimensional array into a vector), use `flatten()`: "
     ]
    },
    {
     "cell_type": "code",
     "collapsed": false,
     "input": [
      "z.flatten()"
     ],
     "language": "python",
     "metadata": {},
     "outputs": [
      {
       "metadata": {},
       "output_type": "pyout",
       "prompt_number": 12,
       "text": [
        "array([ 0.34845297,  0.90214733,  0.39487598,  0.77918234,  0.74133591,\n",
        "        0.72626994,  0.0952352 ,  0.04887837,  0.85917287,  0.46124504,\n",
        "        0.7036889 ,  0.11014396,  0.95277695,  0.84976498,  0.0826167 ,\n",
        "        0.01115781])"
       ]
      }
     ],
     "prompt_number": 12
    },
    {
     "cell_type": "markdown",
     "metadata": {},
     "source": [
      "#### Reading and writing from CSV files\n",
      "To read comma-separated values (CSV) data from a file into numpy arrays, use the `np.genfromtxt()` function in `np`.  \n",
      "\n",
      "> data = np.genfromtxt('myfile.csv')\n",
      "\n",
      "> np.shape(data)"
     ]
    },
    {
     "cell_type": "markdown",
     "metadata": {},
     "source": [
      "To save a `ndarray` object in a CSV format, use `np.savetxt()` where `fmt` specifies the format to save in\n",
      "\n",
      "> dat = random.rand(3,3)\n",
      "\n",
      "> np.savetxt(\"output.csv\", dat, fmt = '%.5f')"
     ]
    },
    {
     "cell_type": "markdown",
     "metadata": {},
     "source": [
      "#### Reading and writing from NumPy's native file format\n",
      "To read from the numpy native file format (`.npy`), use the `np.save()` and `np.load()` functions. \n",
      "\n",
      "> dat = random.rand(3,3)\n",
      "\n",
      "> np.save(\"output.npy\", dat, fmt = '%.5f')\n",
      "\n",
      "> np.load(\"output.npy\"))\n",
      "\n",
      "> output.npy"
     ]
    },
    {
     "cell_type": "markdown",
     "metadata": {},
     "source": [
      "# Operating on NumPy arrays\n",
      "\n",
      "#### Assigning values\n",
      "To assign values to a specific element in a `ndarray`, use the assignment operator.  **Note**: You cannot assign a value of the wrong type to a `ndarray` (e.g. strings), but you can define the type data using the `dtype` property (such as `int`,`float`, `complex`, `bool` etc)"
     ]
    },
    {
     "cell_type": "code",
     "collapsed": false,
     "input": [
      "y = np.array([[1,2], [3,4]])\n",
      "print y.shape"
     ],
     "language": "python",
     "metadata": {},
     "outputs": [
      {
       "output_type": "stream",
       "stream": "stdout",
       "text": [
        "(2, 2)\n"
       ]
      }
     ],
     "prompt_number": 13
    },
    {
     "cell_type": "code",
     "collapsed": false,
     "input": [
      "y[0,0] = 10\n",
      "y "
     ],
     "language": "python",
     "metadata": {},
     "outputs": [
      {
       "metadata": {},
       "output_type": "pyout",
       "prompt_number": 14,
       "text": [
        "array([[10,  2],\n",
        "       [ 3,  4]])"
       ]
      }
     ],
     "prompt_number": 14
    },
    {
     "cell_type": "markdown",
     "metadata": {},
     "source": [
      "#### Indexing and slicing arrays\n",
      "To extract elements of the NumPy arrays, use the bracket operator and the slice (i.e. colon) operator.  To slice specific elements in the array, use `dat[lower:upper:step]`. To extract the diagonal (and subdiagonal) elements, use `diag()`. "
     ]
    },
    {
     "cell_type": "code",
     "collapsed": false,
     "input": [
      "# random samples from a uniform distribution between 0 and 1\n",
      "dat = np.random.rand(4,4)\n",
      "dat"
     ],
     "language": "python",
     "metadata": {},
     "outputs": [
      {
       "metadata": {},
       "output_type": "pyout",
       "prompt_number": 15,
       "text": [
        "array([[ 0.46026891,  0.81010203,  0.83884833,  0.02817271],\n",
        "       [ 0.33501426,  0.90959584,  0.06892868,  0.84817091],\n",
        "       [ 0.98798142,  0.38278029,  0.33542141,  0.61917503],\n",
        "       [ 0.06700311,  0.27695217,  0.26415188,  0.34648268]])"
       ]
      }
     ],
     "prompt_number": 15
    },
    {
     "cell_type": "code",
     "collapsed": false,
     "input": [
      "dat[0, :] # row 1"
     ],
     "language": "python",
     "metadata": {},
     "outputs": [
      {
       "metadata": {},
       "output_type": "pyout",
       "prompt_number": 16,
       "text": [
        "array([ 0.46026891,  0.81010203,  0.83884833,  0.02817271])"
       ]
      }
     ],
     "prompt_number": 16
    },
    {
     "cell_type": "code",
     "collapsed": false,
     "input": [
      "dat[:, 0] # column 1"
     ],
     "language": "python",
     "metadata": {},
     "outputs": [
      {
       "metadata": {},
       "output_type": "pyout",
       "prompt_number": 17,
       "text": [
        "array([ 0.46026891,  0.33501426,  0.98798142,  0.06700311])"
       ]
      }
     ],
     "prompt_number": 17
    },
    {
     "cell_type": "code",
     "collapsed": false,
     "input": [
      "dat[0:3:2, 0] # first and third elements in column 1"
     ],
     "language": "python",
     "metadata": {},
     "outputs": [
      {
       "metadata": {},
       "output_type": "pyout",
       "prompt_number": 18,
       "text": [
        "array([ 0.46026891,  0.98798142])"
       ]
      }
     ],
     "prompt_number": 18
    },
    {
     "cell_type": "code",
     "collapsed": false,
     "input": [
      "np.diag(dat) # diagonal"
     ],
     "language": "python",
     "metadata": {},
     "outputs": [
      {
       "metadata": {},
       "output_type": "pyout",
       "prompt_number": 19,
       "text": [
        "array([ 0.46026891,  0.90959584,  0.33542141,  0.34648268])"
       ]
      }
     ],
     "prompt_number": 19
    },
    {
     "cell_type": "code",
     "collapsed": false,
     "input": [
      "np.arange(32).reshape((8, 4)) # returns an 8 x 4 array"
     ],
     "language": "python",
     "metadata": {},
     "outputs": [
      {
       "metadata": {},
       "output_type": "pyout",
       "prompt_number": 20,
       "text": [
        "array([[ 0,  1,  2,  3],\n",
        "       [ 4,  5,  6,  7],\n",
        "       [ 8,  9, 10, 11],\n",
        "       [12, 13, 14, 15],\n",
        "       [16, 17, 18, 19],\n",
        "       [20, 21, 22, 23],\n",
        "       [24, 25, 26, 27],\n",
        "       [28, 29, 30, 31]])"
       ]
      }
     ],
     "prompt_number": 20
    },
    {
     "cell_type": "code",
     "collapsed": false,
     "input": [
      "x[0] # returns the first row"
     ],
     "language": "python",
     "metadata": {},
     "outputs": [
      {
       "metadata": {},
       "output_type": "pyout",
       "prompt_number": 21,
       "text": [
        "1"
       ]
      }
     ],
     "prompt_number": 21
    },
    {
     "cell_type": "markdown",
     "metadata": {},
     "source": [
      "#### Element-wise transformations on arrays\n",
      "There are many vectorized wrappers that take in one scalar and produce one ore more scalars (e.g. `np.exp()`, `np.sqrt()`). This element-wise array methods are also known as NumPy `ufuncs`. \n",
      "\n",
      "Function | Description \n",
      "--- | --- \n",
      "`np.abs(x)` | absolute value of each element\n",
      "`np.sqrt(x)` | square root of each element\n",
      "`np.square(x)` | square of each element\n",
      "`np.exp(x)` | exponential of each element\n",
      "`np.maximum(x, y)` | element-wise maximum from two arrays x and y\n",
      "`np.minimum(x,y)` | element-wise minimum\n",
      "`np.sign(x)` | compute the sign of each element: 1 (pos), 0 (zero), -1 (neg)\n",
      "`np.subtract(x, y)` | subtract elements in y from elements in x\n",
      "`np.power(x, y)` | raise elements in first array x to powers in second array y\n",
      "`np.meshgrid(x, y)` | takes in two 1D arrays and produces two 2D matrices of all pairs (x, y)\n",
      "`np.where(cond, x, y)` | ifelse statement\n",
      "\n",
      "\n",
      "#### Subsetting arrays using a mask\n",
      "You can subset for elements in an array using a conditional statement. \n",
      "\n"
     ]
    },
    {
     "cell_type": "code",
     "collapsed": false,
     "input": [
      "z = np.array([i for i in range(11)])\n",
      "y = np.array([i**2 for i in range(11)])\n",
      "my_mask = (2 < z) * (z < 8) # check is the elements of z are larger than 2 and less than 8\n",
      "z[my_mask]"
     ],
     "language": "python",
     "metadata": {},
     "outputs": [
      {
       "metadata": {},
       "output_type": "pyout",
       "prompt_number": 22,
       "text": [
        "array([3, 4, 5, 6, 7])"
       ]
      }
     ],
     "prompt_number": 22
    },
    {
     "cell_type": "markdown",
     "metadata": {},
     "source": [
      "You can also use the `np.where()` function. "
     ]
    },
    {
     "cell_type": "code",
     "collapsed": false,
     "input": [
      "np.random.rand(11)\n",
      "np.where(my_mask, z, y) # Picks elements in x when `cond` is true, else elements in y"
     ],
     "language": "python",
     "metadata": {},
     "outputs": [
      {
       "metadata": {},
       "output_type": "pyout",
       "prompt_number": 23,
       "text": [
        "array([  0,   1,   4,   3,   4,   5,   6,   7,  64,  81, 100])"
       ]
      }
     ],
     "prompt_number": 23
    },
    {
     "cell_type": "markdown",
     "metadata": {},
     "source": [
      "To determine the position index of a mask, use the `np.where()` function. The `take()` function is similar to the subsetting above"
     ]
    },
    {
     "cell_type": "code",
     "collapsed": false,
     "input": [
      "keep_indices = np.where(my_mask)\n",
      "z.take(keep_indices)\n",
      "np.take(z, keep_indices)"
     ],
     "language": "python",
     "metadata": {},
     "outputs": [
      {
       "metadata": {},
       "output_type": "pyout",
       "prompt_number": 24,
       "text": [
        "array([[3, 4, 5, 6, 7]])"
       ]
      }
     ],
     "prompt_number": 24
    },
    {
     "cell_type": "markdown",
     "metadata": {},
     "source": [
      "Finally, the `choose()` function creates an array from picking elements from several arrays"
     ]
    },
    {
     "cell_type": "code",
     "collapsed": false,
     "input": [
      "which = [1, 0, 1, 0]\n",
      "choices = [[-2,-2,-2,-2], [5,5,5,5]]\n",
      "np.choose(which, choices)"
     ],
     "language": "python",
     "metadata": {},
     "outputs": [
      {
       "metadata": {},
       "output_type": "pyout",
       "prompt_number": 25,
       "text": [
        "array([ 5, -2,  5, -2])"
       ]
      }
     ],
     "prompt_number": 25
    },
    {
     "cell_type": "markdown",
     "metadata": {},
     "source": [
      "#### Unique and set logic on arrays\n",
      "\n",
      "Other useful functions in `numpy` include `np.unique()` and other set logic functions.  These are set operations for one-dimensional `ndarrays`.  \n",
      "\n",
      "Function | Description\n",
      "--- | --- \n",
      "`np.unique(x)` | Returns the *sorted*, unique values in  x\n",
      "`np.intersect1d(x, y)` | Returns the *sorted*, common elements in x and y\n",
      "`np.union1d(x, y)` | Returns the *sorted*, union of elements\n",
      "`np.in1d(x, y)` | Returns a `bool` array indicating if each element of x is in y\n",
      "`np.setdiff1d(x, y)` | Set difference of elements in x not in y\n",
      "`np.setor1d(x, y)` | Set symmetric difference of elements in either array (but not both)\n",
      "\n",
      "#### Iterating over array elements\n",
      "Iterating over array elements is not suggested (very slow compared to vectorized operations), but sometimes they are unavoidable.  To iterate over array elements, use a `for` loop: "
     ]
    },
    {
     "cell_type": "code",
     "collapsed": false,
     "input": [
      "z = np.arange(0, 10)\n",
      "for elem in z:\n",
      "    print elem"
     ],
     "language": "python",
     "metadata": {},
     "outputs": [
      {
       "output_type": "stream",
       "stream": "stdout",
       "text": [
        "0\n",
        "1\n",
        "2\n",
        "3\n",
        "4\n",
        "5\n",
        "6\n",
        "7\n",
        "8\n",
        "9\n"
       ]
      }
     ],
     "prompt_number": 26
    },
    {
     "cell_type": "markdown",
     "metadata": {},
     "source": [
      "#### Linear algebra\n",
      "\n",
      "Performing matrix and vector operations is very straightforward with NumPy.  Arithmetic operators (`+`, `-` , `*` ) can be used with arrays. "
     ]
    },
    {
     "cell_type": "code",
     "collapsed": false,
     "input": [
      "A = np.array([ [n+m for n in range(5)] for m in range(5)])\n",
      "print A + 5"
     ],
     "language": "python",
     "metadata": {},
     "outputs": [
      {
       "output_type": "stream",
       "stream": "stdout",
       "text": [
        "[[ 5  6  7  8  9]\n",
        " [ 6  7  8  9 10]\n",
        " [ 7  8  9 10 11]\n",
        " [ 8  9 10 11 12]\n",
        " [ 9 10 11 12 13]]\n"
       ]
      }
     ],
     "prompt_number": 27
    },
    {
     "cell_type": "code",
     "collapsed": false,
     "input": [
      "print A * 10"
     ],
     "language": "python",
     "metadata": {},
     "outputs": [
      {
       "output_type": "stream",
       "stream": "stdout",
       "text": [
        "[[ 0 10 20 30 40]\n",
        " [10 20 30 40 50]\n",
        " [20 30 40 50 60]\n",
        " [30 40 50 60 70]\n",
        " [40 50 60 70 80]]\n"
       ]
      }
     ],
     "prompt_number": 28
    },
    {
     "cell_type": "code",
     "collapsed": false,
     "input": [
      "print A * A  # element wise multiplication "
     ],
     "language": "python",
     "metadata": {},
     "outputs": [
      {
       "output_type": "stream",
       "stream": "stdout",
       "text": [
        "[[ 0  1  4  9 16]\n",
        " [ 1  4  9 16 25]\n",
        " [ 4  9 16 25 36]\n",
        " [ 9 16 25 36 49]\n",
        " [16 25 36 49 64]]\n"
       ]
      }
     ],
     "prompt_number": 29
    },
    {
     "cell_type": "code",
     "collapsed": false,
     "input": [
      "print np.dot(A.T, A) # or inner matrix product multiplication on arrays"
     ],
     "language": "python",
     "metadata": {},
     "outputs": [
      {
       "output_type": "stream",
       "stream": "stdout",
       "text": [
        "[[ 30  40  50  60  70]\n",
        " [ 40  55  70  85 100]\n",
        " [ 50  70  90 110 130]\n",
        " [ 60  85 110 135 160]\n",
        " [ 70 100 130 160 190]]\n"
       ]
      }
     ],
     "prompt_number": 30
    },
    {
     "cell_type": "markdown",
     "metadata": {},
     "source": [
      "#### Broadcasting\n",
      "\n",
      "*Broadcasting* is the term for arithmetic methods between multiple NumPy arrays For example, the difference between a 2D array and one of its rows is evaluated as the row vector is subtracted from each column in the 2D array.  "
     ]
    },
    {
     "cell_type": "code",
     "collapsed": false,
     "input": [
      "import pandas as pd\n",
      "c = pd.DataFrame(np.arange(12.).reshape((3, 4)))\n",
      "c"
     ],
     "language": "python",
     "metadata": {},
     "outputs": [
      {
       "html": [
        "<div style=\"max-height:1000px;max-width:1500px;overflow:auto;\">\n",
        "<table border=\"1\" class=\"dataframe\">\n",
        "  <thead>\n",
        "    <tr style=\"text-align: right;\">\n",
        "      <th></th>\n",
        "      <th>0</th>\n",
        "      <th>1</th>\n",
        "      <th>2</th>\n",
        "      <th>3</th>\n",
        "    </tr>\n",
        "  </thead>\n",
        "  <tbody>\n",
        "    <tr>\n",
        "      <th>0</th>\n",
        "      <td> 0</td>\n",
        "      <td> 1</td>\n",
        "      <td>  2</td>\n",
        "      <td>  3</td>\n",
        "    </tr>\n",
        "    <tr>\n",
        "      <th>1</th>\n",
        "      <td> 4</td>\n",
        "      <td> 5</td>\n",
        "      <td>  6</td>\n",
        "      <td>  7</td>\n",
        "    </tr>\n",
        "    <tr>\n",
        "      <th>2</th>\n",
        "      <td> 8</td>\n",
        "      <td> 9</td>\n",
        "      <td> 10</td>\n",
        "      <td> 11</td>\n",
        "    </tr>\n",
        "  </tbody>\n",
        "</table>\n",
        "</div>"
       ],
       "metadata": {},
       "output_type": "pyout",
       "prompt_number": 31,
       "text": [
        "   0  1   2   3\n",
        "0  0  1   2   3\n",
        "1  4  5   6   7\n",
        "2  8  9  10  11"
       ]
      }
     ],
     "prompt_number": 31
    },
    {
     "cell_type": "code",
     "collapsed": false,
     "input": [
      "c - c[0]"
     ],
     "language": "python",
     "metadata": {},
     "outputs": [
      {
       "html": [
        "<div style=\"max-height:1000px;max-width:1500px;overflow:auto;\">\n",
        "<table border=\"1\" class=\"dataframe\">\n",
        "  <thead>\n",
        "    <tr style=\"text-align: right;\">\n",
        "      <th></th>\n",
        "      <th>0</th>\n",
        "      <th>1</th>\n",
        "      <th>2</th>\n",
        "      <th>3</th>\n",
        "    </tr>\n",
        "  </thead>\n",
        "  <tbody>\n",
        "    <tr>\n",
        "      <th>0</th>\n",
        "      <td> 0</td>\n",
        "      <td>-3</td>\n",
        "      <td>-6</td>\n",
        "      <td>NaN</td>\n",
        "    </tr>\n",
        "    <tr>\n",
        "      <th>1</th>\n",
        "      <td> 4</td>\n",
        "      <td> 1</td>\n",
        "      <td>-2</td>\n",
        "      <td>NaN</td>\n",
        "    </tr>\n",
        "    <tr>\n",
        "      <th>2</th>\n",
        "      <td> 8</td>\n",
        "      <td> 5</td>\n",
        "      <td> 2</td>\n",
        "      <td>NaN</td>\n",
        "    </tr>\n",
        "  </tbody>\n",
        "</table>\n",
        "</div>"
       ],
       "metadata": {},
       "output_type": "pyout",
       "prompt_number": 32,
       "text": [
        "   0  1  2   3\n",
        "0  0 -3 -6 NaN\n",
        "1  4  1 -2 NaN\n",
        "2  8  5  2 NaN"
       ]
      }
     ],
     "prompt_number": 32
    },
    {
     "cell_type": "markdown",
     "metadata": {},
     "source": [
      "# Creating NumPy matrices \n",
      "\n",
      "To convert a `ndarray` to a numpy `matrix`, use the `np.matrix()` function.  This allows the standard arithmetic operators (`+`, `-`, `*`) to use matrix algebra. "
     ]
    },
    {
     "cell_type": "code",
     "collapsed": false,
     "input": [
      "x = np.matrix(A)\n",
      "y = np.matrix(np.arange(0, 5))\n",
      "print y.T # transposes array and makes it a column vector"
     ],
     "language": "python",
     "metadata": {},
     "outputs": [
      {
       "output_type": "stream",
       "stream": "stdout",
       "text": [
        "[[0]\n",
        " [1]\n",
        " [2]\n",
        " [3]\n",
        " [4]]\n"
       ]
      }
     ],
     "prompt_number": 33
    },
    {
     "cell_type": "code",
     "collapsed": false,
     "input": [
      "print x * x"
     ],
     "language": "python",
     "metadata": {},
     "outputs": [
      {
       "output_type": "stream",
       "stream": "stdout",
       "text": [
        "[[ 30  40  50  60  70]\n",
        " [ 40  55  70  85 100]\n",
        " [ 50  70  90 110 130]\n",
        " [ 60  85 110 135 160]\n",
        " [ 70 100 130 160 190]]\n"
       ]
      }
     ],
     "prompt_number": 34
    },
    {
     "cell_type": "code",
     "collapsed": false,
     "input": [
      "print x * y.T"
     ],
     "language": "python",
     "metadata": {},
     "outputs": [
      {
       "output_type": "stream",
       "stream": "stdout",
       "text": [
        "[[30]\n",
        " [40]\n",
        " [50]\n",
        " [60]\n",
        " [70]]\n"
       ]
      }
     ],
     "prompt_number": 35
    },
    {
     "cell_type": "code",
     "collapsed": false,
     "input": [
      "print np.shape(x * y.T)"
     ],
     "language": "python",
     "metadata": {},
     "outputs": [
      {
       "output_type": "stream",
       "stream": "stdout",
       "text": [
        "(5, 1)\n"
       ]
      }
     ],
     "prompt_number": 36
    },
    {
     "cell_type": "markdown",
     "metadata": {},
     "source": [
      "Other useful matrix computations\n",
      "\n",
      "Function | Description \n",
      "--- | --- \n",
      "`np.sum(x, axis = 0)` (or `x.sum()`) | Sum of the values (along a given dimension)\n",
      "`np.prod(x + 1)` | Product of all values \n",
      "`np.cumsum(x)` | Cumulative sum\n",
      "`np.mean(x[:, axis = 0])` | Mean of the first column\n",
      "`np.std(x[0,:])` | Standard deviation of first row\n",
      "`np.var(x[0, :])` | Variance of first row\n",
      "`x.min()`, `x.min(axis=0)`, `x.min(axis=`1) | global min, min in each column (or row)\n",
      "`x.max()`, `x.max(axis=0)`, `x.max(axis=`1) | global max, max in each column (or row)\n",
      "`np.trace(x)` | Trace (Same as `diag(x).sum()`)\n",
      "`np.transpose()` | Similar to using `.T` to transpose arrays, but accepts a tuple of axis numbers to permute the axes\n",
      "\n",
      "In addition, the module `numpy.linalg` contains a set of functions for matrix decomposition and inverses"
     ]
    },
    {
     "cell_type": "code",
     "collapsed": false,
     "input": [
      "from numpy.linalg import inv, qr, det"
     ],
     "language": "python",
     "metadata": {},
     "outputs": [],
     "prompt_number": 37
    },
    {
     "cell_type": "markdown",
     "metadata": {},
     "source": [
      "Function | Description \n",
      "--- | --- \n",
      "`inv` | Returns the inverse of a square matrix\n",
      "`det` | Returns the matrix determinant \n",
      "`diag` | Diagonal of square matrix\n",
      "`dvd` | Singular value decomposition \n",
      "`qr` | QR decomposition \n",
      "`eig` | Returns the eigenvalues and eigenvectors of a square matrix\n",
      "`solve` | Solves for $x$ in $Ax = b$ where $A$ is square\n",
      "`lstsq` | Least squares solution \n",
      "\n",
      "\n",
      "# Vectorizing functions\n",
      "\n",
      "It is important to state again that you should avoid looping through elements in vectors if at all possible.  One way to get around that when writing functions is to use what are called **vectorized functions**.  Say you wrote a function `f` which accepts some input `x` and checks if `x` is bigger or smaller than 0.  "
     ]
    },
    {
     "cell_type": "code",
     "collapsed": false,
     "input": [
      "def f(x):\n",
      "    if x >=0:\n",
      "        return True\n",
      "    else:\n",
      "        return False\n",
      "\n",
      "print f(3)"
     ],
     "language": "python",
     "metadata": {},
     "outputs": [
      {
       "output_type": "stream",
       "stream": "stdout",
       "text": [
        "True\n"
       ]
      }
     ],
     "prompt_number": 38
    },
    {
     "cell_type": "markdown",
     "metadata": {},
     "source": [
      "If we give the function an array instead of just one value (e.g. 3), then Python will give an error because there is more than one element in `x`.  The way to get around this is to **vectorize** the function.  "
     ]
    },
    {
     "cell_type": "code",
     "collapsed": false,
     "input": [
      "f_vec = np.vectorize(f)\n",
      "z = np.arange(-5, 6)\n",
      "z "
     ],
     "language": "python",
     "metadata": {},
     "outputs": [
      {
       "metadata": {},
       "output_type": "pyout",
       "prompt_number": 39,
       "text": [
        "array([-5, -4, -3, -2, -1,  0,  1,  2,  3,  4,  5])"
       ]
      }
     ],
     "prompt_number": 39
    },
    {
     "cell_type": "code",
     "collapsed": false,
     "input": [
      "f_vec(z)"
     ],
     "language": "python",
     "metadata": {},
     "outputs": [
      {
       "metadata": {},
       "output_type": "pyout",
       "prompt_number": 40,
       "text": [
        "array([False, False, False, False, False,  True,  True,  True,  True,\n",
        "        True,  True], dtype=bool)"
       ]
      }
     ],
     "prompt_number": 40
    },
    {
     "cell_type": "markdown",
     "metadata": {},
     "source": [
      "Instead of vectorizing the function, you can also make the function itself aware that it will be accepting vectors from the beginning. "
     ]
    },
    {
     "cell_type": "code",
     "collapsed": false,
     "input": [
      "def f(x):\n",
      "    return (x >=0)\n",
      "\n",
      "print f(3)"
     ],
     "language": "python",
     "metadata": {},
     "outputs": [
      {
       "output_type": "stream",
       "stream": "stdout",
       "text": [
        "True\n"
       ]
      }
     ],
     "prompt_number": 41
    },
    {
     "cell_type": "markdown",
     "metadata": {},
     "source": [
      "#### Using conditional statements in arrays\n",
      "\n",
      "To check if `any` or `all` elements in an array meet a certain criteria, use `any()` and `all()`. "
     ]
    },
    {
     "cell_type": "code",
     "collapsed": false,
     "input": [
      "print (x > 0).any()\n",
      "print (x > 0).all()"
     ],
     "language": "python",
     "metadata": {},
     "outputs": [
      {
       "output_type": "stream",
       "stream": "stdout",
       "text": [
        "True\n",
        "False\n"
       ]
      }
     ],
     "prompt_number": 42
    },
    {
     "cell_type": "markdown",
     "metadata": {},
     "source": [
      "#### Resources\n",
      "\n",
      "* [Video of Walt Mankowski on NumPy and SciPy](https://www.youtube.com/watch?v=I_XLoTQSuUk)\n",
      "* [Scientific Lectures (python notebooks) on Github from Robert Johansson](https://github.com/jrjohansson/scientific-python-lectures)"
     ]
    },
    {
     "cell_type": "code",
     "collapsed": false,
     "input": [],
     "language": "python",
     "metadata": {},
     "outputs": [],
     "prompt_number": 42
    }
   ],
   "metadata": {}
  }
 ]
}